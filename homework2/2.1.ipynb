{
 "cells": [
  {
   "cell_type": "markdown",
   "metadata": {},
   "source": [
    "## 2.1"
   ]
  },
  {
   "cell_type": "markdown",
   "metadata": {},
   "source": [
    "导包"
   ]
  },
  {
   "cell_type": "code",
   "execution_count": 2,
   "metadata": {},
   "outputs": [],
   "source": [
    "import csv\n",
    "import numpy as np\n",
    "import pandas as pd\n",
    "from matplotlib import pyplot as plt\n",
    "from sklearn.linear_model import LinearRegression\n",
    "\n",
    "from pylab import mpl\n",
    "mpl.rcParams['font.sans-serif'] = ['Microsoft YaHei'] # SimHei缺少一些数学符号"
   ]
  },
  {
   "cell_type": "markdown",
   "metadata": {},
   "source": [
    "## 2.1.(1)"
   ]
  },
  {
   "cell_type": "code",
   "execution_count": 8,
   "metadata": {},
   "outputs": [
    {
     "name": "stdout",
     "output_type": "stream",
     "text": [
      "Status: Optimal\n",
      "Optimal Value (Maximized Return): 29.836363785\n",
      "Optimal Solution:\n",
      "x1 = 218.18\n",
      "x2 = 0.00\n",
      "x3 = 736.36\n",
      "x4 = 0.00\n",
      "x5 = 45.45\n"
     ]
    }
   ],
   "source": [
    "from pulp import *\n",
    "\n",
    "# 创建问题实例（最大化问题）\n",
    "prob = LpProblem(\"Investment_Optimization\", LpMaximize)\n",
    "\n",
    "# 定义变量（lowBound=0 表示变量非负）\n",
    "x1 = LpVariable(\"x1\", lowBound=0)\n",
    "x2 = LpVariable(\"x2\", lowBound=0)\n",
    "x3 = LpVariable(\"x3\", lowBound=0)\n",
    "x4 = LpVariable(\"x4\", lowBound=0)\n",
    "x5 = LpVariable(\"x5\", lowBound=0)\n",
    "\n",
    "# 定义目标函数\n",
    "prob += 0.043*x1 + 0.027*x2 + 0.025*x3 + 0.022*x4 + 0.045*x5\n",
    "\n",
    "# 定义约束条件\n",
    "prob += x1 + x2 + x3 + x4 + x5 == 1000, \"Total_Investment\"\n",
    "prob += x2 + x3 + x4 >= 400, \"Min_Investment_in_2_3_4\"\n",
    "prob += 0.6*x1 + 0.6*x2 - 0.4*x3 - 0.4*x4 + 3.6*x5 <= 0, \"Constraint_3\"\n",
    "prob += 4*x1 + 10*x2 - x3 - 2*x4 - 3*x5 <= 0, \"Constraint_4\"\n",
    "\n",
    "# 求解问题（默认使用CBC求解器）\n",
    "prob.solve()\n",
    "\n",
    "# 输出结果\n",
    "print(\"Status:\", LpStatus[prob.status])\n",
    "print(\"Optimal Value (Maximized Return):\", value(prob.objective))\n",
    "print(\"Optimal Solution:\")\n",
    "print(f\"x1 = {value(x1):.2f}\")\n",
    "print(f\"x2 = {value(x2):.2f}\")\n",
    "print(f\"x3 = {value(x3):.2f}\")\n",
    "print(f\"x4 = {value(x4):.2f}\")\n",
    "print(f\"x5 = {value(x5):.2f}\")"
   ]
  },
  {
   "cell_type": "markdown",
   "metadata": {},
   "source": [
    "## 2.1.(2)"
   ]
  },
  {
   "cell_type": "code",
   "execution_count": 9,
   "metadata": {},
   "outputs": [
    {
     "name": "stdout",
     "output_type": "stream",
     "text": [
      "Status: Optimal\n",
      "Optimal Net Return: 30.07\n",
      "Optimal Solution:\n",
      "x1 = 240.00\n",
      "x2 = 0.00\n",
      "x3 = 810.00\n",
      "x4 = 0.00\n",
      "x5 = 50.00\n",
      "Borrowing (y) = 100.00\n",
      "Total Investment = 1100.00\n"
     ]
    }
   ],
   "source": [
    "from pulp import *\n",
    "\n",
    "# 创建问题实例（最大化问题）\n",
    "prob = LpProblem(\"Investment_with_Borrowing\", LpMaximize)\n",
    "\n",
    "# 定义变量\n",
    "x1 = LpVariable(\"x1\", lowBound=0)  # 投资1\n",
    "x2 = LpVariable(\"x2\", lowBound=0)  # 投资2\n",
    "x3 = LpVariable(\"x3\", lowBound=0)  # 投资3\n",
    "x4 = LpVariable(\"x4\", lowBound=0)  # 投资4\n",
    "x5 = LpVariable(\"x5\", lowBound=0)  # 投资5\n",
    "y = LpVariable(\"y\", lowBound=0)    # 借款金额（非负）\n",
    "\n",
    "# 定义目标函数（净收益 = 投资收益 - 借款利息）\n",
    "prob += 0.043*x1 + 0.027*x2 + 0.025*x3 + 0.022*x4 + 0.045*x5 - 0.0275*y\n",
    "\n",
    "# 定义约束条件\n",
    "prob += x1 + x2 + x3 + x4 + x5 == 1000 + y, \"Total_Investment\"\n",
    "prob += x2 + x3 + x4 >= 400, \"Min_Investment_in_2_3_4\"\n",
    "prob += 0.6*x1 + 0.6*x2 - 0.4*x3 - 0.4*x4 + 3.6*x5 <= 0, \"Constraint_3\"\n",
    "prob += 4*x1 + 10*x2 - x3 - 2*x4 - 3*x5 <= 0, \"Constraint_4\"\n",
    "prob += y <= 100, \"Max_Borrowing\"\n",
    "\n",
    "# 求解问题\n",
    "prob.solve()\n",
    "\n",
    "# 输出结果\n",
    "print(\"Status:\", LpStatus[prob.status])\n",
    "print(\"Optimal Net Return:\", value(prob.objective))\n",
    "print(\"Optimal Solution:\")\n",
    "print(f\"x1 = {value(x1):.2f}\")\n",
    "print(f\"x2 = {value(x2):.2f}\")\n",
    "print(f\"x3 = {value(x3):.2f}\")\n",
    "print(f\"x4 = {value(x4):.2f}\")\n",
    "print(f\"x5 = {value(x5):.2f}\")\n",
    "print(f\"Borrowing (y) = {value(y):.2f}\")\n",
    "print(f\"Total Investment = {1000 + value(y):.2f}\")"
   ]
  },
  {
   "cell_type": "markdown",
   "metadata": {},
   "source": [
    "## 2.1.(3).1"
   ]
  },
  {
   "cell_type": "code",
   "execution_count": 11,
   "metadata": {},
   "outputs": [
    {
     "name": "stdout",
     "output_type": "stream",
     "text": [
      "Status: Optimal\n",
      "Optimal Value (Maximized Return): 30.272727425\n",
      "Optimal Solution:\n",
      "x1 = 218.18\n",
      "x2 = 0.00\n",
      "x3 = 736.36\n",
      "x4 = 0.00\n",
      "x5 = 45.45\n"
     ]
    }
   ],
   "source": [
    "from pulp import *\n",
    "\n",
    "# 创建问题实例（最大化问题）\n",
    "prob = LpProblem(\"Investment_Optimization\", LpMaximize)\n",
    "\n",
    "# 定义变量（lowBound=0 表示变量非负）\n",
    "x1 = LpVariable(\"x1\", lowBound=0)\n",
    "x2 = LpVariable(\"x2\", lowBound=0)\n",
    "x3 = LpVariable(\"x3\", lowBound=0)\n",
    "x4 = LpVariable(\"x4\", lowBound=0)\n",
    "x5 = LpVariable(\"x5\", lowBound=0)\n",
    "\n",
    "# 定义目标函数\n",
    "prob += 0.045*x1 + 0.027*x2 + 0.025*x3 + 0.022*x4 + 0.045*x5\n",
    "\n",
    "# 定义约束条件\n",
    "prob += x1 + x2 + x3 + x4 + x5 == 1000, \"Total_Investment\"\n",
    "prob += x2 + x3 + x4 >= 400, \"Min_Investment_in_2_3_4\"\n",
    "prob += 0.6*x1 + 0.6*x2 - 0.4*x3 - 0.4*x4 + 3.6*x5 <= 0, \"Constraint_3\"\n",
    "prob += 4*x1 + 10*x2 - x3 - 2*x4 - 3*x5 <= 0, \"Constraint_4\"\n",
    "\n",
    "# 求解问题（默认使用CBC求解器）\n",
    "prob.solve()\n",
    "\n",
    "# 输出结果\n",
    "print(\"Status:\", LpStatus[prob.status])\n",
    "print(\"Optimal Value (Maximized Return):\", value(prob.objective))\n",
    "print(\"Optimal Solution:\")\n",
    "print(f\"x1 = {value(x1):.2f}\")\n",
    "print(f\"x2 = {value(x2):.2f}\")\n",
    "print(f\"x3 = {value(x3):.2f}\")\n",
    "print(f\"x4 = {value(x4):.2f}\")\n",
    "print(f\"x5 = {value(x5):.2f}\")"
   ]
  },
  {
   "cell_type": "markdown",
   "metadata": {},
   "source": [
    "## 2.1.(3).2"
   ]
  },
  {
   "cell_type": "code",
   "execution_count": 12,
   "metadata": {},
   "outputs": [
    {
     "name": "stdout",
     "output_type": "stream",
     "text": [
      "Status: Optimal\n",
      "Optimal Value (Maximized Return): 29.423999999999996\n",
      "Optimal Solution:\n",
      "x1 = 336.00\n",
      "x2 = 0.00\n",
      "x3 = 0.00\n",
      "x4 = 648.00\n",
      "x5 = 16.00\n"
     ]
    }
   ],
   "source": [
    "from pulp import *\n",
    "\n",
    "# 创建问题实例（最大化问题）\n",
    "prob = LpProblem(\"Investment_Optimization\", LpMaximize)\n",
    "\n",
    "# 定义变量（lowBound=0 表示变量非负）\n",
    "x1 = LpVariable(\"x1\", lowBound=0)\n",
    "x2 = LpVariable(\"x2\", lowBound=0)\n",
    "x3 = LpVariable(\"x3\", lowBound=0)\n",
    "x4 = LpVariable(\"x4\", lowBound=0)\n",
    "x5 = LpVariable(\"x5\", lowBound=0)\n",
    "\n",
    "# 定义目标函数\n",
    "prob += 0.043*x1 + 0.027*x2 + 0.024*x3 + 0.022*x4 + 0.045*x5\n",
    "\n",
    "# 定义约束条件\n",
    "prob += x1 + x2 + x3 + x4 + x5 == 1000, \"Total_Investment\"\n",
    "prob += x2 + x3 + x4 >= 400, \"Min_Investment_in_2_3_4\"\n",
    "prob += 0.6*x1 + 0.6*x2 - 0.4*x3 - 0.4*x4 + 3.6*x5 <= 0, \"Constraint_3\"\n",
    "prob += 4*x1 + 10*x2 - x3 - 2*x4 - 3*x5 <= 0, \"Constraint_4\"\n",
    "\n",
    "# 求解问题（默认使用CBC求解器）\n",
    "prob.solve()\n",
    "\n",
    "# 输出结果\n",
    "print(\"Status:\", LpStatus[prob.status])\n",
    "print(\"Optimal Value (Maximized Return):\", value(prob.objective))\n",
    "print(\"Optimal Solution:\")\n",
    "print(f\"x1 = {value(x1):.2f}\")\n",
    "print(f\"x2 = {value(x2):.2f}\")\n",
    "print(f\"x3 = {value(x3):.2f}\")\n",
    "print(f\"x4 = {value(x4):.2f}\")\n",
    "print(f\"x5 = {value(x5):.2f}\")"
   ]
  }
 ],
 "metadata": {
  "kernelspec": {
   "display_name": "base",
   "language": "python",
   "name": "python3"
  },
  "language_info": {
   "codemirror_mode": {
    "name": "ipython",
    "version": 3
   },
   "file_extension": ".py",
   "mimetype": "text/x-python",
   "name": "python",
   "nbconvert_exporter": "python",
   "pygments_lexer": "ipython3",
   "version": "3.12.7"
  }
 },
 "nbformat": 4,
 "nbformat_minor": 2
}
